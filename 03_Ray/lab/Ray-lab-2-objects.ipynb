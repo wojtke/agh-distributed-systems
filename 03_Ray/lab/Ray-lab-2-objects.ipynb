{
 "cells": [
  {
   "cell_type": "code",
   "execution_count": 3,
   "id": "f34da2af",
   "metadata": {},
   "outputs": [
    {
     "name": "stderr",
     "output_type": "stream",
     "text": [
      "2023-04-16 15:37:04,669\tINFO worker.py:1544 -- Started a local Ray instance. View the dashboard at \u001b[1m\u001b[32m127.0.0.1:8265 \u001b[39m\u001b[22m\n"
     ]
    },
    {
     "data": {
      "text/html": [
       "<div>\n",
       "    <div style=\"margin-left: 50px;display: flex;flex-direction: row;align-items: center\">\n",
       "        <h3 style=\"color: var(--jp-ui-font-color0)\">Ray</h3>\n",
       "        <svg version=\"1.1\" id=\"ray\" width=\"3em\" viewBox=\"0 0 144.5 144.6\" style=\"margin-left: 3em;margin-right: 3em\">\n",
       "            <g id=\"layer-1\">\n",
       "                <path fill=\"#00a2e9\" class=\"st0\" d=\"M97.3,77.2c-3.8-1.1-6.2,0.9-8.3,5.1c-3.5,6.8-9.9,9.9-17.4,9.6S58,88.1,54.8,81.2c-1.4-3-3-4-6.3-4.1\n",
       "                    c-5.6-0.1-9.9,0.1-13.1,6.4c-3.8,7.6-13.6,10.2-21.8,7.6C5.2,88.4-0.4,80.5,0,71.7c0.1-8.4,5.7-15.8,13.8-18.2\n",
       "                    c8.4-2.6,17.5,0.7,22.3,8c1.3,1.9,1.3,5.2,3.6,5.6c3.9,0.6,8,0.2,12,0.2c1.8,0,1.9-1.6,2.4-2.8c3.5-7.8,9.7-11.8,18-11.9\n",
       "                    c8.2-0.1,14.4,3.9,17.8,11.4c1.3,2.8,2.9,3.6,5.7,3.3c1-0.1,2,0.1,3,0c2.8-0.5,6.4,1.7,8.1-2.7s-2.3-5.5-4.1-7.5\n",
       "                    c-5.1-5.7-10.9-10.8-16.1-16.3C84,38,81.9,37.1,78,38.3C66.7,42,56.2,35.7,53,24.1C50.3,14,57.3,2.8,67.7,0.5\n",
       "                    C78.4-2,89,4.7,91.5,15.3c0.1,0.3,0.1,0.5,0.2,0.8c0.7,3.4,0.7,6.9-0.8,9.8c-1.7,3.2-0.8,5,1.5,7.2c6.7,6.5,13.3,13,19.8,19.7\n",
       "                    c1.8,1.8,3,2.1,5.5,1.2c9.1-3.4,17.9-0.6,23.4,7c4.8,6.9,4.6,16.1-0.4,22.9c-5.4,7.2-14.2,9.9-23.1,6.5c-2.3-0.9-3.5-0.6-5.1,1.1\n",
       "                    c-6.7,6.9-13.6,13.7-20.5,20.4c-1.8,1.8-2.5,3.2-1.4,5.9c3.5,8.7,0.3,18.6-7.7,23.6c-7.9,5-18.2,3.8-24.8-2.9\n",
       "                    c-6.4-6.4-7.4-16.2-2.5-24.3c4.9-7.8,14.5-11,23.1-7.8c3,1.1,4.7,0.5,6.9-1.7C91.7,98.4,98,92.3,104.2,86c1.6-1.6,4.1-2.7,2.6-6.2\n",
       "                    c-1.4-3.3-3.8-2.5-6.2-2.6C99.8,77.2,98.9,77.2,97.3,77.2z M72.1,29.7c5.5,0.1,9.9-4.3,10-9.8c0-0.1,0-0.2,0-0.3\n",
       "                    C81.8,14,77,9.8,71.5,10.2c-5,0.3-9,4.2-9.3,9.2c-0.2,5.5,4,10.1,9.5,10.3C71.8,29.7,72,29.7,72.1,29.7z M72.3,62.3\n",
       "                    c-5.4-0.1-9.9,4.2-10.1,9.7c0,0.2,0,0.3,0,0.5c0.2,5.4,4.5,9.7,9.9,10c5.1,0.1,9.9-4.7,10.1-9.8c0.2-5.5-4-10-9.5-10.3\n",
       "                    C72.6,62.3,72.4,62.3,72.3,62.3z M115,72.5c0.1,5.4,4.5,9.7,9.8,9.9c5.6-0.2,10-4.8,10-10.4c-0.2-5.4-4.6-9.7-10-9.7\n",
       "                    c-5.3-0.1-9.8,4.2-9.9,9.5C115,72.1,115,72.3,115,72.5z M19.5,62.3c-5.4,0.1-9.8,4.4-10,9.8c-0.1,5.1,5.2,10.4,10.2,10.3\n",
       "                    c5.6-0.2,10-4.9,9.8-10.5c-0.1-5.4-4.5-9.7-9.9-9.6C19.6,62.3,19.5,62.3,19.5,62.3z M71.8,134.6c5.9,0.2,10.3-3.9,10.4-9.6\n",
       "                    c0.5-5.5-3.6-10.4-9.1-10.8c-5.5-0.5-10.4,3.6-10.8,9.1c0,0.5,0,0.9,0,1.4c-0.2,5.3,4,9.8,9.3,10\n",
       "                    C71.6,134.6,71.7,134.6,71.8,134.6z\"/>\n",
       "            </g>\n",
       "        </svg>\n",
       "        <table>\n",
       "            <tr>\n",
       "                <td style=\"text-align: left\"><b>Python version:</b></td>\n",
       "                <td style=\"text-align: left\"><b>3.10.6</b></td>\n",
       "            </tr>\n",
       "            <tr>\n",
       "                <td style=\"text-align: left\"><b>Ray version:</b></td>\n",
       "                <td style=\"text-align: left\"><b> 2.3.1</b></td>\n",
       "            </tr>\n",
       "            <tr>\n",
       "    <td style=\"text-align: left\"><b>Dashboard:</b></td>\n",
       "    <td style=\"text-align: left\"><b><a href=\"http://127.0.0.1:8265\" target=\"_blank\">http://127.0.0.1:8265</a></b></td>\n",
       "</tr>\n",
       "\n",
       "        </table>\n",
       "    </div>\n",
       "</div>\n"
      ],
      "text/plain": [
       "RayContext(dashboard_url='127.0.0.1:8265', python_version='3.10.6', ray_version='2.3.1', ray_commit='5f14cee8dfc6d61ec4fd3bc2c440f9944e92b33a', address_info={'node_ip_address': '192.168.1.5', 'raylet_ip_address': '192.168.1.5', 'redis_address': None, 'object_store_address': '/tmp/ray/session_2023-04-16_15-37-02_149832_59266/sockets/plasma_store', 'raylet_socket_name': '/tmp/ray/session_2023-04-16_15-37-02_149832_59266/sockets/raylet', 'webui_url': '127.0.0.1:8265', 'session_dir': '/tmp/ray/session_2023-04-16_15-37-02_149832_59266', 'metrics_export_port': 61142, 'gcs_address': '192.168.1.5:58060', 'address': '192.168.1.5:58060', 'dashboard_agent_listen_port': 52365, 'node_id': '60f68b7340d6170fec79931b5b89ee08563434bf69353b52059e5c97'})"
      ]
     },
     "execution_count": 3,
     "metadata": {},
     "output_type": "execute_result"
    }
   ],
   "source": [
    "import logging\n",
    "import numpy as np\n",
    "import ray\n",
    "import time\n",
    "from ray.exceptions import GetTimeoutError\n",
    "import cProfile\n",
    "\n",
    "if ray.is_initialized:\n",
    "    ray.shutdown()\n",
    "ray.init()"
   ]
  },
  {
   "cell_type": "markdown",
   "id": "8f48867b",
   "metadata": {},
   "source": [
    "### Remote Objects example"
   ]
  },
  {
   "cell_type": "code",
   "execution_count": 12,
   "id": "c3144ab4",
   "metadata": {},
   "outputs": [
    {
     "name": "stdout",
     "output_type": "stream",
     "text": [
      "ObjectRef(00ffffffffffffffffffffffffffffffffffffff0100000014000000)\n",
      "[23, 42, 93]\n",
      "[0, 1, 2, 3, 4, 5, 6, 7, 8, 9]\n"
     ]
    }
   ],
   "source": [
    "num_list = [23, 42, 93]\n",
    "\n",
    "obj_ref = ray.put(num_list)\n",
    "print(obj_ref)\n",
    "\n",
    "val = ray.get(obj_ref)\n",
    "print(val)\n",
    "\n",
    "results = ray.get([ray.put(i) for i in range(10)])\n",
    "print(results)"
   ]
  },
  {
   "cell_type": "markdown",
   "id": "7d29f6e3",
   "metadata": {},
   "source": [
    "### Passing Objects by Reference\n"
   ]
  },
  {
   "cell_type": "code",
   "execution_count": null,
   "id": "8eb315ff",
   "metadata": {},
   "outputs": [],
   "source": [
    "@ray.remote\n",
    "def echo(x):\n",
    "    print(f\"current value of argument: {x}\")"
   ]
  },
  {
   "cell_type": "code",
   "execution_count": 8,
   "id": "8cbb806d",
   "metadata": {},
   "outputs": [
    {
     "data": {
      "text/plain": [
       "ObjectRef(d695f922effe6d99ffffffffffffffffffffffff0100000001000000)"
      ]
     },
     "execution_count": 8,
     "metadata": {},
     "output_type": "execute_result"
    },
    {
     "name": "stdout",
     "output_type": "stream",
     "text": [
      "\u001b[2m\u001b[36m(echo pid=60637)\u001b[0m current value of argument x: 25\n",
      "\u001b[2m\u001b[36m(echo pid=60628)\u001b[0m current value of argument x: [0, 1, 2, 3, 4, 5, 6, 7, 8, 9]\n"
     ]
    }
   ],
   "source": [
    "x = list(range(10))\n",
    "obj_ref_x = ray.put(x)\n",
    "y = 25\n",
    "\n",
    "echo.remote(y)\n",
    "echo.remote(obj_ref_x)"
   ]
  },
  {
   "cell_type": "code",
   "execution_count": 9,
   "id": "3f552125",
   "metadata": {},
   "outputs": [
    {
     "data": {
      "text/plain": [
       "ObjectRef(71b133a11e1c461cffffffffffffffffffffffff0100000001000000)"
      ]
     },
     "execution_count": 9,
     "metadata": {},
     "output_type": "execute_result"
    },
    {
     "name": "stdout",
     "output_type": "stream",
     "text": [
      "\u001b[2m\u001b[36m(echo pid=60637)\u001b[0m current value of argument x: [ObjectRef(00ffffffffffffffffffffffffffffffffffffff0100000013000000)]\n",
      "\u001b[2m\u001b[36m(echo pid=60628)\u001b[0m current value of argument x: {'obj': ObjectRef(00ffffffffffffffffffffffffffffffffffffff0100000013000000)}\n"
     ]
    }
   ],
   "source": [
    "\n",
    "x = list(range(20))\n",
    "obj_ref_x = ray.put(x)\n",
    "echo.remote({\"obj\": obj_ref_x})\n",
    "echo.remote([obj_ref_x])"
   ]
  },
  {
   "cell_type": "markdown",
   "id": "8c4bd8b2",
   "metadata": {},
   "source": [
    "### Handling Long-Running Tasks with Timeout"
   ]
  },
  {
   "cell_type": "code",
   "execution_count": 10,
   "id": "f82cf941",
   "metadata": {},
   "outputs": [
    {
     "name": "stdout",
     "output_type": "stream",
     "text": [
      "start task\n",
      "`get` timed out\n",
      "         740 function calls (737 primitive calls) in 6.006 seconds\n",
      "\n",
      "   Ordered by: standard name\n",
      "\n",
      "   ncalls  tottime  percall  cumtime  percall filename:lineno(function)\n",
      "        1    0.000    0.000    6.005    6.005 287432207.py:6(time_out_funtion)\n",
      "        4    0.000    0.000    0.000    0.000 <frozen importlib._bootstrap>:1053(_handle_fromlist)\n",
      "       14    0.000    0.000    0.000    0.000 <string>:1(<lambda>)\n",
      "        1    0.000    0.000    6.006    6.006 <string>:1(<module>)\n",
      "        2    0.000    0.000    0.000    0.000 __init__.py:1455(debug)\n",
      "        2    0.000    0.000    0.000    0.000 __init__.py:1724(isEnabledFor)\n",
      "        2    0.000    0.000    0.000    0.000 __init__.py:980(__getitem__)\n",
      "        2    0.000    0.000    0.002    0.001 _channel.py:1021(__call__)\n",
      "        2    0.000    0.000    0.000    0.000 _channel.py:118(__init__)\n",
      "        2    0.000    0.000    0.000    0.000 _channel.py:1350(__new__)\n",
      "        2    0.000    0.000    0.000    0.000 _channel.py:1354(with_wait_for_ready)\n",
      "        2    0.000    0.000    0.000    0.000 _channel.py:161(_handle_event)\n",
      "        2    0.000    0.000    0.000    0.000 _channel.py:884(_start_unary_request)\n",
      "        2    0.000    0.000    0.000    0.000 _channel.py:899(_end_unary_response_blocking)\n",
      "        2    0.000    0.000    0.000    0.000 _channel.py:937(_determine_deadline)\n",
      "        2    0.000    0.000    0.000    0.000 _channel.py:95(_deadline)\n",
      "        2    0.000    0.000    0.000    0.000 _channel.py:969(_prepare)\n",
      "        2    0.000    0.000    0.002    0.001 _channel.py:996(_blocking)\n",
      "        3    0.000    0.000    0.000    0.000 _collections_abc.py:816(get)\n",
      "        2    0.000    0.000    0.000    0.000 _collections_abc.py:823(__contains__)\n",
      "        2    0.000    0.000    0.000    0.000 _common.py:100(deserialize)\n",
      "        4    0.000    0.000    0.000    0.000 _common.py:83(_transform)\n",
      "        2    0.000    0.000    0.000    0.000 _common.py:96(serialize)\n",
      "        2    0.000    0.000    0.000    0.000 _compression.py:49(augment_metadata)\n",
      "      4/2    0.000    0.000    0.000    0.000 client_mode_hook.py:110(client_mode_should_convert)\n",
      "      3/2    0.000    0.000    6.001    3.001 client_mode_hook.py:96(wrapper)\n",
      "        5    0.000    0.000    0.000    0.000 cloudpickle.py:181(_is_registered_pickle_by_value)\n",
      "        5    0.000    0.000    0.000    0.000 cloudpickle.py:195(_whichmodule)\n",
      "        6    0.000    0.000    0.000    0.000 cloudpickle.py:243(_should_pickle_by_reference)\n",
      "        5    0.000    0.000    0.000    0.000 cloudpickle.py:279(_lookup_module_and_qualname)\n",
      "        1    0.000    0.000    0.000    0.000 cloudpickle.py:319(_extract_code_globals)\n",
      "        1    0.000    0.000    0.000    0.000 cloudpickle.py:328(<dictcomp>)\n",
      "        1    0.000    0.000    0.000    0.000 cloudpickle.py:346(_find_imported_submodules)\n",
      "        2    0.000    0.000    0.000    0.000 cloudpickle.py:520(_walk_global_ops)\n",
      "        1    0.000    0.000    0.000    0.000 cloudpickle_fast.py:168(_function_getstate)\n",
      "        1    0.000    0.000    0.000    0.000 cloudpickle_fast.py:187(<dictcomp>)\n",
      "        1    0.000    0.000    0.000    0.000 cloudpickle_fast.py:288(_code_reduce)\n",
      "        1    0.000    0.000    0.000    0.000 cloudpickle_fast.py:476(_module_reduce)\n",
      "        1    0.000    0.000    0.000    0.000 cloudpickle_fast.py:537(_class_reduce)\n",
      "        1    0.000    0.000    0.000    0.000 cloudpickle_fast.py:676(_dynamic_function_reduce)\n",
      "        5    0.000    0.000    0.000    0.000 cloudpickle_fast.py:682(_function_reduce)\n",
      "        1    0.000    0.000    0.000    0.000 cloudpickle_fast.py:699(_function_getnewargs)\n",
      "        3    0.000    0.000    0.001    0.000 cloudpickle_fast.py:731(dump)\n",
      "        3    0.000    0.000    0.000    0.000 cloudpickle_fast.py:745(__init__)\n",
      "        3    0.000    0.000    0.001    0.000 cloudpickle_fast.py:76(dumps)\n",
      "        8    0.000    0.000    0.000    0.000 cloudpickle_fast.py:794(reducer_override)\n",
      "        1    0.000    0.000    0.000    0.000 dis.py:128(_get_code_object)\n",
      "        7    0.000    0.000    0.000    0.000 dis.py:223(_disassemble)\n",
      "        1    0.000    0.000    0.000    0.000 dis.py:261(get_instructions)\n",
      "        4    0.000    0.000    0.000    0.000 dis.py:283(_get_const_info)\n",
      "        4    0.000    0.000    0.000    0.000 dis.py:295(_get_name_info)\n",
      "       16    0.000    0.000    0.000    0.000 dis.py:311(_get_instructions_bytes)\n",
      "        1    0.000    0.000    0.000    0.000 dis.py:368(disassemble)\n",
      "        1    0.000    0.000    0.000    0.000 dis.py:375(_disassemble_recursive)\n",
      "        1    0.000    0.000    0.000    0.000 dis.py:386(_disassemble_bytes)\n",
      "       32    0.000    0.000    0.000    0.000 dis.py:422(_unpack_opargs)\n",
      "        1    0.000    0.000    0.000    0.000 dis.py:43(dis)\n",
      "        2    0.000    0.000    0.000    0.000 dis.py:434(findlabels)\n",
      "        6    0.000    0.000    0.000    0.000 dis.py:453(findlinestarts)\n",
      "        1    0.000    0.000    0.000    0.000 function_manager.py:111(compute_collision_identifier)\n",
      "        1    0.000    0.000    0.003    0.003 function_manager.py:181(export)\n",
      "        1    0.000    0.000    0.000    0.000 function_manager.py:40(make_function_table_key)\n",
      "        2    0.000    0.000    0.002    0.001 gcs_utils.py:187(wrapper)\n",
      "        1    0.000    0.000    0.001    0.001 gcs_utils.py:301(internal_kv_put)\n",
      "        1    0.000    0.000    0.001    0.001 gcs_utils.py:346(internal_kv_exists)\n",
      "        1    0.000    0.000    0.000    0.000 inspect.py:182(ismodule)\n",
      "        1    0.000    0.000    0.000    0.000 inspect.py:191(isclass)\n",
      "        1    0.000    0.000    0.000    0.000 inspect.py:199(ismethod)\n",
      "        1    0.000    0.000    0.000    0.000 inspect.py:277(isfunction)\n",
      "        1    0.000    0.000    0.000    0.000 inspect.py:355(istraceback)\n",
      "        1    0.000    0.000    0.000    0.000 inspect.py:365(isframe)\n",
      "        1    0.000    0.000    0.000    0.000 inspect.py:379(iscode)\n",
      "        1    0.000    0.000    0.000    0.000 inspect.py:773(getfile)\n",
      "        1    0.000    0.000    0.000    0.000 inspect.py:801(getmodulename)\n",
      "        1    0.000    0.000    0.000    0.000 inspect.py:805(<listcomp>)\n",
      "        1    0.000    0.000    0.000    0.000 iostream.py:203(schedule)\n",
      "        2    0.000    0.000    0.000    0.000 iostream.py:444(_is_master_process)\n",
      "        2    0.000    0.000    0.000    0.000 iostream.py:465(_schedule_flush)\n",
      "        2    0.000    0.000    0.000    0.000 iostream.py:535(write)\n",
      "        1    0.000    0.000    0.000    0.000 iostream.py:90(_event_pipe)\n",
      "        1    0.000    0.000    0.000    0.000 machinery.py:17(all_suffixes)\n",
      "        5    0.000    0.000    0.000    0.000 os.py:674(__getitem__)\n",
      "        5    0.000    0.000    0.000    0.000 os.py:754(encode)\n",
      "        4    0.000    0.000    0.000    0.000 pickle.py:322(_getattribute)\n",
      "        1    0.000    0.000    0.000    0.000 placement_group.py:327(check_placement_group_index)\n",
      "        1    0.000    0.000    0.000    0.000 placement_group.py:36(empty)\n",
      "        1    0.000    0.000    0.000    0.000 placement_group.py:396(_configure_placement_group_based_on_context)\n",
      "        1    0.000    0.000    0.000    0.000 placement_group.py:40(__init__)\n",
      "        2    0.000    0.000    0.000    0.000 placement_group.py:48(is_empty)\n",
      "        1    0.000    0.000    0.000    0.000 posixpath.py:140(basename)\n",
      "        1    0.000    0.000    0.000    0.000 posixpath.py:41(_get_sep)\n",
      "        1    0.000    0.000    0.000    0.000 profiling.py:13(__enter__)\n",
      "        1    0.000    0.000    0.000    0.000 profiling.py:16(__exit__)\n",
      "        1    0.000    0.000    0.000    0.000 profiling.py:84(profile)\n",
      "        1    0.000    0.000    0.000    0.000 ray_option_utils.py:204(_warn_if_using_deprecated_placement_group)\n",
      "        1    0.000    0.000    0.004    0.004 remote_function.py:127(_remote_proxy)\n",
      "        1    0.000    0.000    0.004    0.004 remote_function.py:240(_remote)\n",
      "        1    0.000    0.000    0.000    0.000 remote_function.py:373(invocation)\n",
      "        1    0.000    0.000    0.000    0.000 socket.py:613(send)\n",
      "        1    0.000    0.000    0.000    0.000 threading.py:1102(_wait_for_tstate_lock)\n",
      "        1    0.000    0.000    0.000    0.000 threading.py:1169(is_alive)\n",
      "        2    0.000    0.000    0.000    0.000 threading.py:236(__init__)\n",
      "        6    0.000    0.000    0.000    0.000 threading.py:264(__enter__)\n",
      "        6    0.000    0.000    0.000    0.000 threading.py:267(__exit__)\n",
      "        2    0.000    0.000    0.000    0.000 threading.py:359(notify)\n",
      "        2    0.000    0.000    0.000    0.000 threading.py:389(notify_all)\n",
      "        1    0.000    0.000    0.000    0.000 threading.py:553(is_set)\n",
      "        2    0.000    0.000    0.000    0.000 threading.py:90(RLock)\n",
      "        1    0.000    0.000    0.000    0.000 tracing_helper.py:116(_is_tracing_enabled)\n",
      "        1    0.000    0.000    0.004    0.004 tracing_helper.py:294(_invocation_remote_span)\n",
      "        1    0.000    0.000    0.000    0.000 utils.py:1629(parse_runtime_env)\n",
      "        1    0.000    0.000    0.000    0.000 utils.py:261(decode)\n",
      "        1    0.000    0.000    0.000    0.000 utils.py:414(resources_from_ray_options)\n",
      "        1    0.000    0.000    0.000    0.000 utils.py:772(check_oversized_function)\n",
      "        1    0.000    0.000    0.000    0.000 uuid.py:333(hex)\n",
      "        1    0.000    0.000    0.000    0.000 weakref.py:428(__setitem__)\n",
      "        1    0.000    0.000    0.000    0.000 weakref.py:452(get)\n",
      "        2    0.000    0.000    0.000    0.000 worker.py:1871(is_initialized)\n",
      "        1    0.000    0.000    6.001    6.001 worker.py:2277(get)\n",
      "        5    0.000    0.000    0.000    0.000 worker.py:453(connected)\n",
      "        1    0.000    0.000    0.000    0.000 worker.py:463(load_code_from_local)\n",
      "        6    0.000    0.000    0.000    0.000 worker.py:468(current_job_id)\n",
      "        1    0.000    0.000    0.000    0.000 worker.py:480(current_task_id)\n",
      "        1    0.000    0.000    0.000    0.000 worker.py:504(should_capture_child_tasks_in_placement_group)\n",
      "        2    0.000    0.000    0.000    0.000 worker.py:508(current_session_and_job)\n",
      "        3    0.000    0.000    0.000    0.000 worker.py:542(check_connected)\n",
      "        1    0.000    0.000    6.001    6.001 worker.py:644(get_objects)\n",
      "        2    0.000    0.000    0.000    0.000 {built-in method FromString}\n",
      "       16    0.000    0.000    0.000    0.000 {built-in method __new__ of type object at 0x7f992e96ce60}\n",
      "        1    0.000    0.000    0.000    0.000 {built-in method _hashlib.openssl_sha1}\n",
      "        1    0.000    0.000    6.006    6.006 {built-in method builtins.exec}\n",
      "       14    0.000    0.000    0.000    0.000 {built-in method builtins.getattr}\n",
      "       27    0.000    0.000    0.000    0.000 {built-in method builtins.hasattr}\n",
      "        1    0.000    0.000    0.000    0.000 {built-in method builtins.id}\n",
      "       49    0.000    0.000    0.000    0.000 {built-in method builtins.isinstance}\n",
      "        9    0.000    0.000    0.000    0.000 {built-in method builtins.issubclass}\n",
      "       16    0.000    0.000    0.000    0.000 {built-in method builtins.len}\n",
      "        1    0.000    0.000    0.000    0.000 {built-in method builtins.max}\n",
      "        9    0.000    0.000    0.000    0.000 {built-in method builtins.print}\n",
      "       16    0.000    0.000    0.000    0.000 {built-in method builtins.repr}\n",
      "        1    0.000    0.000    0.000    0.000 {built-in method from_function}\n",
      "        1    0.000    0.000    0.000    0.000 {built-in method nil}\n",
      "        1    0.000    0.000    0.000    0.000 {built-in method posix.fspath}\n",
      "        2    0.000    0.000    0.000    0.000 {built-in method posix.getpid}\n",
      "        3    0.000    0.000    0.001    0.000 {function CloudPickler.dump at 0x7f992c611bd0}\n",
      "        2    0.000    0.000    0.000    0.000 {grpc._cython.cygrpc.get_deadline_from_context}\n",
      "        2    0.000    0.000    0.000    0.000 {grpc._cython.cygrpc.get_fork_epoch}\n",
      "        2    0.000    0.000    0.000    0.000 {method 'SerializeToString' of 'google._upb._message.Message' objects}\n",
      "        6    0.000    0.000    0.000    0.000 {method '__enter__' of '_thread.RLock' objects}\n",
      "        3    0.000    0.000    0.000    0.000 {method '__exit__' of '_io._IOBase' objects}\n",
      "        8    0.000    0.000    0.000    0.000 {method '__exit__' of '_thread.RLock' objects}\n",
      "        2    0.000    0.000    0.000    0.000 {method '_is_owned' of '_thread.RLock' objects}\n",
      "        1    0.000    0.000    0.000    0.000 {method 'acquire' of '_thread.lock' objects}\n",
      "        1    0.000    0.000    0.000    0.000 {method 'append' of 'collections.deque' objects}\n",
      "       44    0.000    0.000    0.000    0.000 {method 'append' of 'list' objects}\n",
      "        1    0.000    0.000    0.000    0.000 {method 'binary' of 'ray._raylet.JobID' objects}\n",
      "        2    0.000    0.000    0.000    0.000 {method 'binary' of 'ray._raylet.UniqueID' objects}\n",
      "        2    0.000    0.000    0.000    0.000 {method 'co_lines' of 'code' objects}\n",
      "        2    0.000    0.000    0.000    0.000 {method 'code' of 'grpc._cython.cygrpc.ReceiveStatusOnClientOperation' objects}\n",
      "        1    0.000    0.000    0.000    0.000 {method 'copy' of 'dict' objects}\n",
      "        1    0.000    0.000    0.000    0.000 {method 'current_actor_is_asyncio' of 'ray._raylet.CoreWorker' objects}\n",
      "        1    0.000    0.000    0.000    0.000 {method 'decode' of 'bytes' objects}\n",
      "        2    0.000    0.000    0.000    0.000 {method 'details' of 'grpc._cython.cygrpc.ReceiveStatusOnClientOperation' objects}\n",
      "        1    0.000    0.000    0.000    0.000 {method 'digest' of '_hashlib.HASH' objects}\n",
      "        1    0.000    0.000    0.000    0.000 {method 'disable' of '_lsprof.Profiler' objects}\n",
      "        7    0.000    0.000    0.000    0.000 {method 'encode' of 'str' objects}\n",
      "        4    0.000    0.000    0.000    0.000 {method 'endswith' of 'str' objects}\n",
      "        2    0.000    0.000    0.000    0.000 {method 'error_string' of 'grpc._cython.cygrpc.ReceiveStatusOnClientOperation' objects}\n",
      "        2    0.000    0.000    0.000    0.000 {method 'extend' of 'list' objects}\n",
      "       44    0.000    0.000    0.000    0.000 {method 'get' of 'dict' objects}\n",
      "        6    0.000    0.000    0.000    0.000 {method 'get_current_job_id' of 'ray._raylet.CoreWorker' objects}\n",
      "        1    0.000    0.000    0.000    0.000 {method 'get_current_task_id' of 'ray._raylet.CoreWorker' objects}\n",
      "        1    6.001    6.001    6.001    6.001 {method 'get_objects' of 'ray._raylet.CoreWorker' objects}\n",
      "        3    0.000    0.000    0.000    0.000 {method 'getvalue' of '_io.BytesIO' objects}\n",
      "        1    0.000    0.000    0.000    0.000 {method 'getvalue' of '_io.StringIO' objects}\n",
      "        1    0.000    0.000    0.000    0.000 {method 'hex' of 'ray._raylet.JobID' objects}\n",
      "        2    0.000    0.000    0.000    0.000 {method 'initial_metadata' of 'grpc._cython.cygrpc.ReceiveInitialMetadataOperation' objects}\n",
      "        3    0.000    0.000    0.000    0.000 {method 'is_nil' of 'ray._raylet.PlacementGroupID' objects}\n",
      "        1    0.000    0.000    0.000    0.000 {method 'items' of 'dict' objects}\n",
      "        1    0.000    0.000    0.000    0.000 {method 'join' of 'bytes' objects}\n",
      "        7    0.000    0.000    0.000    0.000 {method 'join' of 'str' objects}\n",
      "        7    0.000    0.000    0.000    0.000 {method 'ljust' of 'str' objects}\n",
      "        2    0.000    0.000    0.000    0.000 {method 'message' of 'grpc._cython.cygrpc.ReceiveMessageOperation' objects}\n",
      "        2    0.001    0.000    0.001    0.000 {method 'next_event' of 'grpc._cython.cygrpc.SegregatedCall' objects}\n",
      "        2    0.000    0.000    0.000    0.000 {method 'pop' of 'dict' objects}\n",
      "       12    0.000    0.000    0.000    0.000 {method 'remove' of 'set' objects}\n",
      "        1    0.000    0.000    0.000    0.000 {method 'rfind' of 'str' objects}\n",
      "       12    0.000    0.000    0.000    0.000 {method 'rjust' of 'str' objects}\n",
      "       13    0.000    0.000    0.000    0.000 {method 'rsplit' of 'str' objects}\n",
      "        7    0.000    0.000    0.000    0.000 {method 'rstrip' of 'str' objects}\n",
      "        2    0.001    0.000    0.001    0.000 {method 'segregated_call' of 'grpc._cython.cygrpc.Channel' objects}\n",
      "        1    0.000    0.000    0.000    0.000 {method 'setdefault' of 'dict' objects}\n",
      "        1    0.000    0.000    0.000    0.000 {method 'should_capture_child_tasks_in_placement_group' of 'ray._raylet.CoreWorker' objects}\n",
      "        1    0.000    0.000    0.000    0.000 {method 'sort' of 'list' objects}\n",
      "        4    0.000    0.000    0.000    0.000 {method 'split' of 'str' objects}\n",
      "        1    0.000    0.000    0.000    0.000 {method 'submit_task' of 'ray._raylet.CoreWorker' objects}\n",
      "        2    0.000    0.000    0.000    0.000 {method 'trailing_metadata' of 'grpc._cython.cygrpc.ReceiveStatusOnClientOperation' objects}\n",
      "        2    0.000    0.000    0.000    0.000 {method 'type' of 'grpc._cython.cygrpc.ReceiveInitialMetadataOperation' objects}\n",
      "        2    0.000    0.000    0.000    0.000 {method 'type' of 'grpc._cython.cygrpc.ReceiveMessageOperation' objects}\n",
      "        2    0.000    0.000    0.000    0.000 {method 'type' of 'grpc._cython.cygrpc.ReceiveStatusOnClientOperation' objects}\n",
      "        2    0.000    0.000    0.000    0.000 {method 'type' of 'grpc._cython.cygrpc.SendCloseFromClientOperation' objects}\n",
      "        2    0.000    0.000    0.000    0.000 {method 'type' of 'grpc._cython.cygrpc.SendInitialMetadataOperation' objects}\n",
      "        2    0.000    0.000    0.000    0.000 {method 'type' of 'grpc._cython.cygrpc.SendMessageOperation' objects}\n",
      "        2    0.000    0.000    0.000    0.000 {method 'values' of 'dict' objects}\n",
      "        2    0.000    0.000    0.000    0.000 {method 'write' of '_io.StringIO' objects}\n",
      "\n",
      "\n"
     ]
    }
   ],
   "source": [
    "@ray.remote\n",
    "def long_running_function():\n",
    "    time.sleep(10)\n",
    "    return 42\n",
    "\n",
    "def time_out_funtion():\n",
    "    obj_ref = long_running_function.remote()\n",
    "    try:\n",
    "        ray.get(obj_ref, timeout=6)\n",
    "    except GetTimeoutError:\n",
    "        print(\"`get` timed out\")\n",
    "\n",
    "print(\"start task\")\n",
    "cProfile.run(\"time_out_funtion()\")"
   ]
  },
  {
   "cell_type": "markdown",
   "id": "3cfdd52d",
   "metadata": {},
   "source": [
    "---"
   ]
  },
  {
   "cell_type": "code",
   "execution_count": 13,
   "id": "88d17141",
   "metadata": {},
   "outputs": [],
   "source": [
    "ray.shutdown()"
   ]
  }
 ],
 "metadata": {
  "kernelspec": {
   "display_name": "Python 3 (ipykernel)",
   "language": "python",
   "name": "python3"
  },
  "language_info": {
   "codemirror_mode": {
    "name": "ipython",
    "version": 3
   },
   "file_extension": ".py",
   "mimetype": "text/x-python",
   "name": "python",
   "nbconvert_exporter": "python",
   "pygments_lexer": "ipython3",
   "version": "3.10.6"
  }
 },
 "nbformat": 4,
 "nbformat_minor": 5
}
